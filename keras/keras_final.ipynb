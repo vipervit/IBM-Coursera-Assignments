{
 "cells": [
  {
   "cell_type": "markdown",
   "metadata": {
    "button": false,
    "deletable": true,
    "new_sheet": false,
    "run_control": {
     "read_only": false
    }
   },
   "source": [
    "<a href=\"https://cognitiveclass.ai\"><img src = \"https://s3-api.us-geo.objectstorage.softlayer.net/cf-courses-data/CognitiveClass/Logos/organization_logo/organization_logo.png\" width = 400> </a>\n",
    "\n",
    "<h1 align=center><font size = 5>Regression Models with Keras</font></h1>\n"
   ]
  },
  {
   "cell_type": "markdown",
   "metadata": {
    "button": false,
    "deletable": true,
    "new_sheet": false,
    "run_control": {
     "read_only": false
    }
   },
   "source": [
    "<a id=\"item31\"></a>\n"
   ]
  },
  {
   "cell_type": "markdown",
   "metadata": {
    "button": false,
    "deletable": true,
    "new_sheet": false,
    "run_control": {
     "read_only": false
    }
   },
   "source": [
    "## Download and Clean Dataset\n"
   ]
  },
  {
   "cell_type": "code",
   "execution_count": 54,
   "metadata": {
    "button": false,
    "deletable": true,
    "new_sheet": false,
    "run_control": {
     "read_only": false
    }
   },
   "outputs": [],
   "source": [
    "import pandas as pd\n",
    "import numpy as np\n",
    "from sklearn.metrics import mean_squared_error\n",
    "from numpy import std, mean\n",
    "import keras\n",
    "from keras.models import Sequential\n",
    "from keras.layers import Dense"
   ]
  },
  {
   "cell_type": "markdown",
   "metadata": {
    "button": false,
    "deletable": true,
    "new_sheet": false,
    "run_control": {
     "read_only": false
    }
   },
   "source": [
    "<strong>The dataset is about the compressive strength of different samples of concrete based on the volumes of the different ingredients that were used to make them. Ingredients include:</strong>\n",
    "\n",
    "<strong>1. Cement</strong>\n",
    "\n",
    "<strong>2. Blast Furnace Slag</strong>\n",
    "\n",
    "<strong>3. Fly Ash</strong>\n",
    "\n",
    "<strong>4. Water</strong>\n",
    "\n",
    "<strong>5. Superplasticizer</strong>\n",
    "\n",
    "<strong>6. Coarse Aggregate</strong>\n",
    "\n",
    "<strong>7. Fine Aggregate</strong>\n"
   ]
  },
  {
   "cell_type": "markdown",
   "metadata": {
    "button": false,
    "deletable": true,
    "new_sheet": false,
    "run_control": {
     "read_only": false
    }
   },
   "source": [
    "Let's download the data and read it into a <em>pandas</em> dataframe.\n"
   ]
  },
  {
   "cell_type": "code",
   "execution_count": 22,
   "metadata": {
    "button": false,
    "deletable": true,
    "new_sheet": false,
    "run_control": {
     "read_only": false
    }
   },
   "outputs": [
    {
     "data": {
      "text/html": [
       "<div>\n",
       "<style scoped>\n",
       "    .dataframe tbody tr th:only-of-type {\n",
       "        vertical-align: middle;\n",
       "    }\n",
       "\n",
       "    .dataframe tbody tr th {\n",
       "        vertical-align: top;\n",
       "    }\n",
       "\n",
       "    .dataframe thead th {\n",
       "        text-align: right;\n",
       "    }\n",
       "</style>\n",
       "<table border=\"1\" class=\"dataframe\">\n",
       "  <thead>\n",
       "    <tr style=\"text-align: right;\">\n",
       "      <th></th>\n",
       "      <th>Cement</th>\n",
       "      <th>Blast Furnace Slag</th>\n",
       "      <th>Fly Ash</th>\n",
       "      <th>Water</th>\n",
       "      <th>Superplasticizer</th>\n",
       "      <th>Coarse Aggregate</th>\n",
       "      <th>Fine Aggregate</th>\n",
       "      <th>Age</th>\n",
       "      <th>Strength</th>\n",
       "    </tr>\n",
       "  </thead>\n",
       "  <tbody>\n",
       "    <tr>\n",
       "      <th>0</th>\n",
       "      <td>540.0</td>\n",
       "      <td>0.0</td>\n",
       "      <td>0.0</td>\n",
       "      <td>162.0</td>\n",
       "      <td>2.5</td>\n",
       "      <td>1040.0</td>\n",
       "      <td>676.0</td>\n",
       "      <td>28</td>\n",
       "      <td>79.99</td>\n",
       "    </tr>\n",
       "    <tr>\n",
       "      <th>1</th>\n",
       "      <td>540.0</td>\n",
       "      <td>0.0</td>\n",
       "      <td>0.0</td>\n",
       "      <td>162.0</td>\n",
       "      <td>2.5</td>\n",
       "      <td>1055.0</td>\n",
       "      <td>676.0</td>\n",
       "      <td>28</td>\n",
       "      <td>61.89</td>\n",
       "    </tr>\n",
       "    <tr>\n",
       "      <th>2</th>\n",
       "      <td>332.5</td>\n",
       "      <td>142.5</td>\n",
       "      <td>0.0</td>\n",
       "      <td>228.0</td>\n",
       "      <td>0.0</td>\n",
       "      <td>932.0</td>\n",
       "      <td>594.0</td>\n",
       "      <td>270</td>\n",
       "      <td>40.27</td>\n",
       "    </tr>\n",
       "    <tr>\n",
       "      <th>3</th>\n",
       "      <td>332.5</td>\n",
       "      <td>142.5</td>\n",
       "      <td>0.0</td>\n",
       "      <td>228.0</td>\n",
       "      <td>0.0</td>\n",
       "      <td>932.0</td>\n",
       "      <td>594.0</td>\n",
       "      <td>365</td>\n",
       "      <td>41.05</td>\n",
       "    </tr>\n",
       "    <tr>\n",
       "      <th>4</th>\n",
       "      <td>198.6</td>\n",
       "      <td>132.4</td>\n",
       "      <td>0.0</td>\n",
       "      <td>192.0</td>\n",
       "      <td>0.0</td>\n",
       "      <td>978.4</td>\n",
       "      <td>825.5</td>\n",
       "      <td>360</td>\n",
       "      <td>44.30</td>\n",
       "    </tr>\n",
       "  </tbody>\n",
       "</table>\n",
       "</div>"
      ],
      "text/plain": [
       "   Cement  Blast Furnace Slag  Fly Ash  Water  Superplasticizer  \\\n",
       "0   540.0                 0.0      0.0  162.0               2.5   \n",
       "1   540.0                 0.0      0.0  162.0               2.5   \n",
       "2   332.5               142.5      0.0  228.0               0.0   \n",
       "3   332.5               142.5      0.0  228.0               0.0   \n",
       "4   198.6               132.4      0.0  192.0               0.0   \n",
       "\n",
       "   Coarse Aggregate  Fine Aggregate  Age  Strength  \n",
       "0            1040.0           676.0   28     79.99  \n",
       "1            1055.0           676.0   28     61.89  \n",
       "2             932.0           594.0  270     40.27  \n",
       "3             932.0           594.0  365     41.05  \n",
       "4             978.4           825.5  360     44.30  "
      ]
     },
     "execution_count": 22,
     "metadata": {},
     "output_type": "execute_result"
    }
   ],
   "source": [
    "concrete_data = pd.read_csv('https://s3-api.us-geo.objectstorage.softlayer.net/cf-courses-data/CognitiveClass/DL0101EN/labs/data/concrete_data.csv')\n",
    "concrete_data.head()"
   ]
  },
  {
   "cell_type": "markdown",
   "metadata": {
    "button": false,
    "deletable": true,
    "new_sheet": false,
    "run_control": {
     "read_only": false
    }
   },
   "source": [
    "So the first concrete sample has 540 cubic meter of cement, 0 cubic meter of blast furnace slag, 0 cubic meter of fly ash, 162 cubic meter of water, 2.5 cubic meter of superplaticizer, 1040 cubic meter of coarse aggregate, 676 cubic meter of fine aggregate. Such a concrete mix which is 28 days old, has a compressive strength of 79.99 MPa. \n"
   ]
  },
  {
   "cell_type": "markdown",
   "metadata": {
    "button": false,
    "deletable": true,
    "new_sheet": false,
    "run_control": {
     "read_only": false
    }
   },
   "source": [
    "#### Let's check how many data points we have.\n"
   ]
  },
  {
   "cell_type": "code",
   "execution_count": 23,
   "metadata": {
    "button": false,
    "deletable": true,
    "new_sheet": false,
    "run_control": {
     "read_only": false
    }
   },
   "outputs": [
    {
     "data": {
      "text/plain": [
       "(1030, 9)"
      ]
     },
     "execution_count": 23,
     "metadata": {},
     "output_type": "execute_result"
    }
   ],
   "source": [
    "concrete_data.shape"
   ]
  },
  {
   "cell_type": "markdown",
   "metadata": {
    "button": false,
    "deletable": true,
    "new_sheet": false,
    "run_control": {
     "read_only": false
    }
   },
   "source": [
    "So, there are approximately 1000 samples to train our model on. Because of the few samples, we have to be careful not to overfit the training data.\n"
   ]
  },
  {
   "cell_type": "markdown",
   "metadata": {
    "button": false,
    "deletable": true,
    "new_sheet": false,
    "run_control": {
     "read_only": false
    }
   },
   "source": [
    "Let's check the dataset for any missing values.\n"
   ]
  },
  {
   "cell_type": "code",
   "execution_count": 24,
   "metadata": {
    "button": false,
    "deletable": true,
    "new_sheet": false,
    "run_control": {
     "read_only": false
    }
   },
   "outputs": [
    {
     "data": {
      "text/html": [
       "<div>\n",
       "<style scoped>\n",
       "    .dataframe tbody tr th:only-of-type {\n",
       "        vertical-align: middle;\n",
       "    }\n",
       "\n",
       "    .dataframe tbody tr th {\n",
       "        vertical-align: top;\n",
       "    }\n",
       "\n",
       "    .dataframe thead th {\n",
       "        text-align: right;\n",
       "    }\n",
       "</style>\n",
       "<table border=\"1\" class=\"dataframe\">\n",
       "  <thead>\n",
       "    <tr style=\"text-align: right;\">\n",
       "      <th></th>\n",
       "      <th>Cement</th>\n",
       "      <th>Blast Furnace Slag</th>\n",
       "      <th>Fly Ash</th>\n",
       "      <th>Water</th>\n",
       "      <th>Superplasticizer</th>\n",
       "      <th>Coarse Aggregate</th>\n",
       "      <th>Fine Aggregate</th>\n",
       "      <th>Age</th>\n",
       "      <th>Strength</th>\n",
       "    </tr>\n",
       "  </thead>\n",
       "  <tbody>\n",
       "    <tr>\n",
       "      <th>count</th>\n",
       "      <td>1030.000000</td>\n",
       "      <td>1030.000000</td>\n",
       "      <td>1030.000000</td>\n",
       "      <td>1030.000000</td>\n",
       "      <td>1030.000000</td>\n",
       "      <td>1030.000000</td>\n",
       "      <td>1030.000000</td>\n",
       "      <td>1030.000000</td>\n",
       "      <td>1030.000000</td>\n",
       "    </tr>\n",
       "    <tr>\n",
       "      <th>mean</th>\n",
       "      <td>281.167864</td>\n",
       "      <td>73.895825</td>\n",
       "      <td>54.188350</td>\n",
       "      <td>181.567282</td>\n",
       "      <td>6.204660</td>\n",
       "      <td>972.918932</td>\n",
       "      <td>773.580485</td>\n",
       "      <td>45.662136</td>\n",
       "      <td>35.817961</td>\n",
       "    </tr>\n",
       "    <tr>\n",
       "      <th>std</th>\n",
       "      <td>104.506364</td>\n",
       "      <td>86.279342</td>\n",
       "      <td>63.997004</td>\n",
       "      <td>21.354219</td>\n",
       "      <td>5.973841</td>\n",
       "      <td>77.753954</td>\n",
       "      <td>80.175980</td>\n",
       "      <td>63.169912</td>\n",
       "      <td>16.705742</td>\n",
       "    </tr>\n",
       "    <tr>\n",
       "      <th>min</th>\n",
       "      <td>102.000000</td>\n",
       "      <td>0.000000</td>\n",
       "      <td>0.000000</td>\n",
       "      <td>121.800000</td>\n",
       "      <td>0.000000</td>\n",
       "      <td>801.000000</td>\n",
       "      <td>594.000000</td>\n",
       "      <td>1.000000</td>\n",
       "      <td>2.330000</td>\n",
       "    </tr>\n",
       "    <tr>\n",
       "      <th>25%</th>\n",
       "      <td>192.375000</td>\n",
       "      <td>0.000000</td>\n",
       "      <td>0.000000</td>\n",
       "      <td>164.900000</td>\n",
       "      <td>0.000000</td>\n",
       "      <td>932.000000</td>\n",
       "      <td>730.950000</td>\n",
       "      <td>7.000000</td>\n",
       "      <td>23.710000</td>\n",
       "    </tr>\n",
       "    <tr>\n",
       "      <th>50%</th>\n",
       "      <td>272.900000</td>\n",
       "      <td>22.000000</td>\n",
       "      <td>0.000000</td>\n",
       "      <td>185.000000</td>\n",
       "      <td>6.400000</td>\n",
       "      <td>968.000000</td>\n",
       "      <td>779.500000</td>\n",
       "      <td>28.000000</td>\n",
       "      <td>34.445000</td>\n",
       "    </tr>\n",
       "    <tr>\n",
       "      <th>75%</th>\n",
       "      <td>350.000000</td>\n",
       "      <td>142.950000</td>\n",
       "      <td>118.300000</td>\n",
       "      <td>192.000000</td>\n",
       "      <td>10.200000</td>\n",
       "      <td>1029.400000</td>\n",
       "      <td>824.000000</td>\n",
       "      <td>56.000000</td>\n",
       "      <td>46.135000</td>\n",
       "    </tr>\n",
       "    <tr>\n",
       "      <th>max</th>\n",
       "      <td>540.000000</td>\n",
       "      <td>359.400000</td>\n",
       "      <td>200.100000</td>\n",
       "      <td>247.000000</td>\n",
       "      <td>32.200000</td>\n",
       "      <td>1145.000000</td>\n",
       "      <td>992.600000</td>\n",
       "      <td>365.000000</td>\n",
       "      <td>82.600000</td>\n",
       "    </tr>\n",
       "  </tbody>\n",
       "</table>\n",
       "</div>"
      ],
      "text/plain": [
       "            Cement  Blast Furnace Slag      Fly Ash        Water  \\\n",
       "count  1030.000000         1030.000000  1030.000000  1030.000000   \n",
       "mean    281.167864           73.895825    54.188350   181.567282   \n",
       "std     104.506364           86.279342    63.997004    21.354219   \n",
       "min     102.000000            0.000000     0.000000   121.800000   \n",
       "25%     192.375000            0.000000     0.000000   164.900000   \n",
       "50%     272.900000           22.000000     0.000000   185.000000   \n",
       "75%     350.000000          142.950000   118.300000   192.000000   \n",
       "max     540.000000          359.400000   200.100000   247.000000   \n",
       "\n",
       "       Superplasticizer  Coarse Aggregate  Fine Aggregate          Age  \\\n",
       "count       1030.000000       1030.000000     1030.000000  1030.000000   \n",
       "mean           6.204660        972.918932      773.580485    45.662136   \n",
       "std            5.973841         77.753954       80.175980    63.169912   \n",
       "min            0.000000        801.000000      594.000000     1.000000   \n",
       "25%            0.000000        932.000000      730.950000     7.000000   \n",
       "50%            6.400000        968.000000      779.500000    28.000000   \n",
       "75%           10.200000       1029.400000      824.000000    56.000000   \n",
       "max           32.200000       1145.000000      992.600000   365.000000   \n",
       "\n",
       "          Strength  \n",
       "count  1030.000000  \n",
       "mean     35.817961  \n",
       "std      16.705742  \n",
       "min       2.330000  \n",
       "25%      23.710000  \n",
       "50%      34.445000  \n",
       "75%      46.135000  \n",
       "max      82.600000  "
      ]
     },
     "execution_count": 24,
     "metadata": {},
     "output_type": "execute_result"
    }
   ],
   "source": [
    "concrete_data.describe()"
   ]
  },
  {
   "cell_type": "code",
   "execution_count": 25,
   "metadata": {
    "button": false,
    "deletable": true,
    "new_sheet": false,
    "run_control": {
     "read_only": false
    }
   },
   "outputs": [
    {
     "data": {
      "text/plain": [
       "Cement                0\n",
       "Blast Furnace Slag    0\n",
       "Fly Ash               0\n",
       "Water                 0\n",
       "Superplasticizer      0\n",
       "Coarse Aggregate      0\n",
       "Fine Aggregate        0\n",
       "Age                   0\n",
       "Strength              0\n",
       "dtype: int64"
      ]
     },
     "execution_count": 25,
     "metadata": {},
     "output_type": "execute_result"
    }
   ],
   "source": [
    "concrete_data.isnull().sum()"
   ]
  },
  {
   "cell_type": "markdown",
   "metadata": {
    "button": false,
    "deletable": true,
    "new_sheet": false,
    "run_control": {
     "read_only": false
    }
   },
   "source": [
    "The data looks very clean and is ready to be used to build our model.\n"
   ]
  },
  {
   "cell_type": "markdown",
   "metadata": {
    "button": false,
    "deletable": true,
    "new_sheet": false,
    "run_control": {
     "read_only": false
    }
   },
   "source": [
    "#### Split data into predictors and target\n"
   ]
  },
  {
   "cell_type": "markdown",
   "metadata": {},
   "source": [
    "The target variable in this problem is the concrete sample strength. Therefore, our predictors will be all the other columns.\n"
   ]
  },
  {
   "cell_type": "code",
   "execution_count": 26,
   "metadata": {
    "button": false,
    "deletable": true,
    "new_sheet": false,
    "run_control": {
     "read_only": false
    }
   },
   "outputs": [],
   "source": [
    "concrete_data_columns = concrete_data.columns\n",
    "\n",
    "predictors = concrete_data[concrete_data_columns[concrete_data_columns != 'Strength']] # all columns except Strength\n",
    "target = concrete_data['Strength'] # Strength column"
   ]
  },
  {
   "cell_type": "markdown",
   "metadata": {
    "button": false,
    "deletable": true,
    "new_sheet": false,
    "run_control": {
     "read_only": false
    }
   },
   "source": [
    "<a id=\"item2\"></a>\n"
   ]
  },
  {
   "cell_type": "markdown",
   "metadata": {
    "button": false,
    "deletable": true,
    "new_sheet": false,
    "run_control": {
     "read_only": false
    }
   },
   "source": [
    "Let's do a quick sanity check of the predictors and the target dataframes.\n"
   ]
  },
  {
   "cell_type": "code",
   "execution_count": 27,
   "metadata": {
    "button": false,
    "deletable": true,
    "new_sheet": false,
    "run_control": {
     "read_only": false
    }
   },
   "outputs": [
    {
     "data": {
      "text/html": [
       "<div>\n",
       "<style scoped>\n",
       "    .dataframe tbody tr th:only-of-type {\n",
       "        vertical-align: middle;\n",
       "    }\n",
       "\n",
       "    .dataframe tbody tr th {\n",
       "        vertical-align: top;\n",
       "    }\n",
       "\n",
       "    .dataframe thead th {\n",
       "        text-align: right;\n",
       "    }\n",
       "</style>\n",
       "<table border=\"1\" class=\"dataframe\">\n",
       "  <thead>\n",
       "    <tr style=\"text-align: right;\">\n",
       "      <th></th>\n",
       "      <th>Cement</th>\n",
       "      <th>Blast Furnace Slag</th>\n",
       "      <th>Fly Ash</th>\n",
       "      <th>Water</th>\n",
       "      <th>Superplasticizer</th>\n",
       "      <th>Coarse Aggregate</th>\n",
       "      <th>Fine Aggregate</th>\n",
       "      <th>Age</th>\n",
       "    </tr>\n",
       "  </thead>\n",
       "  <tbody>\n",
       "    <tr>\n",
       "      <th>0</th>\n",
       "      <td>540.0</td>\n",
       "      <td>0.0</td>\n",
       "      <td>0.0</td>\n",
       "      <td>162.0</td>\n",
       "      <td>2.5</td>\n",
       "      <td>1040.0</td>\n",
       "      <td>676.0</td>\n",
       "      <td>28</td>\n",
       "    </tr>\n",
       "    <tr>\n",
       "      <th>1</th>\n",
       "      <td>540.0</td>\n",
       "      <td>0.0</td>\n",
       "      <td>0.0</td>\n",
       "      <td>162.0</td>\n",
       "      <td>2.5</td>\n",
       "      <td>1055.0</td>\n",
       "      <td>676.0</td>\n",
       "      <td>28</td>\n",
       "    </tr>\n",
       "    <tr>\n",
       "      <th>2</th>\n",
       "      <td>332.5</td>\n",
       "      <td>142.5</td>\n",
       "      <td>0.0</td>\n",
       "      <td>228.0</td>\n",
       "      <td>0.0</td>\n",
       "      <td>932.0</td>\n",
       "      <td>594.0</td>\n",
       "      <td>270</td>\n",
       "    </tr>\n",
       "    <tr>\n",
       "      <th>3</th>\n",
       "      <td>332.5</td>\n",
       "      <td>142.5</td>\n",
       "      <td>0.0</td>\n",
       "      <td>228.0</td>\n",
       "      <td>0.0</td>\n",
       "      <td>932.0</td>\n",
       "      <td>594.0</td>\n",
       "      <td>365</td>\n",
       "    </tr>\n",
       "    <tr>\n",
       "      <th>4</th>\n",
       "      <td>198.6</td>\n",
       "      <td>132.4</td>\n",
       "      <td>0.0</td>\n",
       "      <td>192.0</td>\n",
       "      <td>0.0</td>\n",
       "      <td>978.4</td>\n",
       "      <td>825.5</td>\n",
       "      <td>360</td>\n",
       "    </tr>\n",
       "  </tbody>\n",
       "</table>\n",
       "</div>"
      ],
      "text/plain": [
       "   Cement  Blast Furnace Slag  Fly Ash  Water  Superplasticizer  \\\n",
       "0   540.0                 0.0      0.0  162.0               2.5   \n",
       "1   540.0                 0.0      0.0  162.0               2.5   \n",
       "2   332.5               142.5      0.0  228.0               0.0   \n",
       "3   332.5               142.5      0.0  228.0               0.0   \n",
       "4   198.6               132.4      0.0  192.0               0.0   \n",
       "\n",
       "   Coarse Aggregate  Fine Aggregate  Age  \n",
       "0            1040.0           676.0   28  \n",
       "1            1055.0           676.0   28  \n",
       "2             932.0           594.0  270  \n",
       "3             932.0           594.0  365  \n",
       "4             978.4           825.5  360  "
      ]
     },
     "execution_count": 27,
     "metadata": {},
     "output_type": "execute_result"
    }
   ],
   "source": [
    "predictors.head()"
   ]
  },
  {
   "cell_type": "code",
   "execution_count": 28,
   "metadata": {
    "button": false,
    "deletable": true,
    "new_sheet": false,
    "run_control": {
     "read_only": false
    }
   },
   "outputs": [
    {
     "data": {
      "text/plain": [
       "0    79.99\n",
       "1    61.89\n",
       "2    40.27\n",
       "3    41.05\n",
       "4    44.30\n",
       "Name: Strength, dtype: float64"
      ]
     },
     "execution_count": 28,
     "metadata": {},
     "output_type": "execute_result"
    }
   ],
   "source": [
    "target.head()"
   ]
  },
  {
   "cell_type": "markdown",
   "metadata": {
    "button": false,
    "deletable": true,
    "new_sheet": false,
    "run_control": {
     "read_only": false
    }
   },
   "source": [
    "Finally, the last step is to normalize the data by substracting the mean and dividing by the standard deviation.\n"
   ]
  },
  {
   "cell_type": "markdown",
   "metadata": {},
   "source": [
    "Let's save the number of predictors to _n_cols_ since we will need this number when building our network.\n"
   ]
  },
  {
   "cell_type": "code",
   "execution_count": 29,
   "metadata": {
    "button": false,
    "deletable": true,
    "new_sheet": false,
    "run_control": {
     "read_only": false
    }
   },
   "outputs": [],
   "source": [
    "n_cols = predictors.shape[1] # number of predictors"
   ]
  },
  {
   "cell_type": "markdown",
   "metadata": {},
   "source": [
    "# Build Model"
   ]
  },
  {
   "cell_type": "code",
   "execution_count": 30,
   "metadata": {
    "button": false,
    "deletable": true,
    "new_sheet": false,
    "run_control": {
     "read_only": false
    }
   },
   "outputs": [],
   "source": [
    "model = Sequential()\n",
    "model.add(Dense(50, activation='relu', input_shape=(n_cols,)))\n",
    "model.add(Dense(10, activation='relu'))\n",
    "model.add(Dense(1))\n",
    "model.compile(optimizer='adam', loss='mean_squared_error')"
   ]
  },
  {
   "cell_type": "code",
   "execution_count": 40,
   "metadata": {},
   "outputs": [],
   "source": [
    "def get_mses(model, target, predictors, iterations=50):\n",
    "    arr_mse = []\n",
    "    for i in range(iterations):\n",
    "        arr_mse += [mean_squared_error(target, model.predict(predictors))]\n",
    "    return arr_mse"
   ]
  },
  {
   "cell_type": "markdown",
   "metadata": {},
   "source": [
    "# PART A - Train Model and Get Standard Deviation of 50 Runs"
   ]
  },
  {
   "cell_type": "code",
   "execution_count": null,
   "metadata": {},
   "outputs": [],
   "source": [
    "model.fit(predictors, target, validation_split=0.3, epochs=50)"
   ]
  },
  {
   "cell_type": "code",
   "execution_count": 41,
   "metadata": {},
   "outputs": [],
   "source": [
    "mses_a = get_mses(model, target, predictors, iterations=50)"
   ]
  },
  {
   "cell_type": "code",
   "execution_count": 55,
   "metadata": {},
   "outputs": [
    {
     "name": "stdout",
     "output_type": "stream",
     "text": [
      "Mean of the Mean Squared Errors: 66.07249704809739\n"
     ]
    }
   ],
   "source": [
    "print('Mean of the Mean Squared Errors: {}'.format(mean(mses_a)))"
   ]
  },
  {
   "cell_type": "code",
   "execution_count": 42,
   "metadata": {},
   "outputs": [
    {
     "name": "stdout",
     "output_type": "stream",
     "text": [
      "Standard deviation of 50 MSE values for NON-normalized predictors: 1.4210854715202004e-14\n"
     ]
    }
   ],
   "source": [
    "print('Standard deviation of 50 MSE values for NON-normalized predictors: {}'.format(std(mses_a)))"
   ]
  },
  {
   "cell_type": "markdown",
   "metadata": {},
   "source": [
    "# Part B - Normalize Data"
   ]
  },
  {
   "cell_type": "code",
   "execution_count": 43,
   "metadata": {},
   "outputs": [],
   "source": [
    "predictors_norm = (predictors - predictors.mean()) / predictors.std()"
   ]
  },
  {
   "cell_type": "code",
   "execution_count": 44,
   "metadata": {},
   "outputs": [
    {
     "name": "stdout",
     "output_type": "stream",
     "text": [
      "Train on 721 samples, validate on 309 samples\n",
      "Epoch 1/50\n",
      "721/721 [==============================] - 1s 1ms/step - loss: 1682.6333 - val_loss: 1179.6999\n",
      "Epoch 2/50\n",
      "721/721 [==============================] - 1s 837us/step - loss: 1562.8682 - val_loss: 1079.9528\n",
      "Epoch 3/50\n",
      "721/721 [==============================] - 1s 856us/step - loss: 1392.1105 - val_loss: 944.1418\n",
      "Epoch 4/50\n",
      "721/721 [==============================] - 1s 944us/step - loss: 1159.1309 - val_loss: 774.5600\n",
      "Epoch 5/50\n",
      "721/721 [==============================] - 1s 1ms/step - loss: 884.8625 - val_loss: 585.9105\n",
      "Epoch 6/50\n",
      "721/721 [==============================] - 1s 967us/step - loss: 621.3970 - val_loss: 414.3967\n",
      "Epoch 7/50\n",
      "721/721 [==============================] - 1s 918us/step - loss: 414.7461 - val_loss: 288.8625\n",
      "Epoch 8/50\n",
      "721/721 [==============================] - 1s 996us/step - loss: 294.1040 - val_loss: 214.4230\n",
      "Epoch 9/50\n",
      "721/721 [==============================] - 1s 950us/step - loss: 238.3149 - val_loss: 174.3534\n",
      "Epoch 10/50\n",
      "721/721 [==============================] - 1s 2ms/step - loss: 216.2338 - val_loss: 156.3776\n",
      "Epoch 11/50\n",
      "721/721 [==============================] - 1s 921us/step - loss: 203.6612 - val_loss: 149.3145\n",
      "Epoch 12/50\n",
      "721/721 [==============================] - 1s 897us/step - loss: 195.4728 - val_loss: 146.1750\n",
      "Epoch 13/50\n",
      "721/721 [==============================] - 1s 961us/step - loss: 189.3112 - val_loss: 142.2352\n",
      "Epoch 14/50\n",
      "721/721 [==============================] - 1s 1ms/step - loss: 183.6855 - val_loss: 142.0693\n",
      "Epoch 15/50\n",
      "721/721 [==============================] - 1s 1ms/step - loss: 179.4794 - val_loss: 139.9646\n",
      "Epoch 16/50\n",
      "721/721 [==============================] - 1s 1ms/step - loss: 175.5145 - val_loss: 137.1120\n",
      "Epoch 17/50\n",
      "721/721 [==============================] - 1s 1ms/step - loss: 172.3059 - val_loss: 136.2182\n",
      "Epoch 18/50\n",
      "721/721 [==============================] - 1s 1ms/step - loss: 169.0700 - val_loss: 134.7875\n",
      "Epoch 19/50\n",
      "721/721 [==============================] - 1s 1ms/step - loss: 166.5531 - val_loss: 133.7580\n",
      "Epoch 20/50\n",
      "721/721 [==============================] - 1s 1ms/step - loss: 164.0097 - val_loss: 131.6295\n",
      "Epoch 21/50\n",
      "721/721 [==============================] - 1s 886us/step - loss: 161.7141 - val_loss: 130.6475\n",
      "Epoch 22/50\n",
      "721/721 [==============================] - 1s 862us/step - loss: 159.3890 - val_loss: 129.5182\n",
      "Epoch 23/50\n",
      "721/721 [==============================] - 1s 1ms/step - loss: 157.3802 - val_loss: 127.8638\n",
      "Epoch 24/50\n",
      "721/721 [==============================] - 1s 1ms/step - loss: 155.4831 - val_loss: 126.8087\n",
      "Epoch 25/50\n",
      "721/721 [==============================] - 1s 1ms/step - loss: 153.6598 - val_loss: 125.1487\n",
      "Epoch 26/50\n",
      "721/721 [==============================] - 1s 921us/step - loss: 152.0647 - val_loss: 123.8909\n",
      "Epoch 27/50\n",
      "721/721 [==============================] - 1s 1ms/step - loss: 150.3571 - val_loss: 122.2040\n",
      "Epoch 28/50\n",
      "721/721 [==============================] - 1s 947us/step - loss: 148.4999 - val_loss: 121.7248\n",
      "Epoch 29/50\n",
      "721/721 [==============================] - 1s 908us/step - loss: 146.8321 - val_loss: 119.9256\n",
      "Epoch 30/50\n",
      "721/721 [==============================] - 1s 1000us/step - loss: 145.2149 - val_loss: 118.9377\n",
      "Epoch 31/50\n",
      "721/721 [==============================] - 1s 923us/step - loss: 143.8258 - val_loss: 117.7864\n",
      "Epoch 32/50\n",
      "721/721 [==============================] - 1s 943us/step - loss: 142.0321 - val_loss: 117.2233\n",
      "Epoch 33/50\n",
      "721/721 [==============================] - 1s 939us/step - loss: 140.2449 - val_loss: 115.9739\n",
      "Epoch 34/50\n",
      "721/721 [==============================] - 1s 1ms/step - loss: 138.7741 - val_loss: 114.0684\n",
      "Epoch 35/50\n",
      "721/721 [==============================] - 1s 1ms/step - loss: 137.3669 - val_loss: 112.7817\n",
      "Epoch 36/50\n",
      "721/721 [==============================] - 1s 890us/step - loss: 135.7315 - val_loss: 112.1473\n",
      "Epoch 37/50\n",
      "721/721 [==============================] - 1s 940us/step - loss: 133.9836 - val_loss: 111.3293\n",
      "Epoch 38/50\n",
      "721/721 [==============================] - 1s 2ms/step - loss: 132.2667 - val_loss: 110.1963\n",
      "Epoch 39/50\n",
      "721/721 [==============================] - 1s 1000us/step - loss: 130.5111 - val_loss: 109.4834\n",
      "Epoch 40/50\n",
      "721/721 [==============================] - 1s 869us/step - loss: 128.8010 - val_loss: 108.7453\n",
      "Epoch 41/50\n",
      "721/721 [==============================] - 1s 1ms/step - loss: 127.3597 - val_loss: 109.3344\n",
      "Epoch 42/50\n",
      "721/721 [==============================] - 1s 909us/step - loss: 125.6406 - val_loss: 107.3658\n",
      "Epoch 43/50\n",
      "721/721 [==============================] - 1s 971us/step - loss: 123.5679 - val_loss: 106.5457\n",
      "Epoch 44/50\n",
      "721/721 [==============================] - 1s 881us/step - loss: 121.9226 - val_loss: 106.8900\n",
      "Epoch 45/50\n",
      "721/721 [==============================] - 1s 863us/step - loss: 119.9796 - val_loss: 106.2875\n",
      "Epoch 46/50\n",
      "721/721 [==============================] - 1s 864us/step - loss: 118.1920 - val_loss: 105.6163\n",
      "Epoch 47/50\n",
      "721/721 [==============================] - 1s 888us/step - loss: 116.3857 - val_loss: 104.9433\n",
      "Epoch 48/50\n",
      "721/721 [==============================] - 1s 1ms/step - loss: 114.9120 - val_loss: 104.4183\n",
      "Epoch 49/50\n",
      "721/721 [==============================] - 1s 993us/step - loss: 113.4779 - val_loss: 103.0859\n",
      "Epoch 50/50\n",
      "721/721 [==============================] - 1s 909us/step - loss: 111.0360 - val_loss: 102.8597\n"
     ]
    },
    {
     "data": {
      "text/plain": [
       "<keras.callbacks.History at 0x7f6d513f0b00>"
      ]
     },
     "execution_count": 44,
     "metadata": {},
     "output_type": "execute_result"
    }
   ],
   "source": [
    "model.fit(predictors_norm, target, validation_split=0.3, epochs=50)"
   ]
  },
  {
   "cell_type": "code",
   "execution_count": 45,
   "metadata": {},
   "outputs": [],
   "source": [
    "mses_b = get_mses(model, target, predictors_norm, iterations=50)"
   ]
  },
  {
   "cell_type": "code",
   "execution_count": 46,
   "metadata": {},
   "outputs": [
    {
     "name": "stdout",
     "output_type": "stream",
     "text": [
      "Standard deviation of 50 MSE values for normalized predictors: 2.842170943040401e-14\n"
     ]
    }
   ],
   "source": [
    "print('Standard deviation of 50 MSE values for normalized predictors: {}'.format(std(mses_b)))"
   ]
  },
  {
   "cell_type": "code",
   "execution_count": 47,
   "metadata": {},
   "outputs": [
    {
     "data": {
      "text/plain": [
       "False"
      ]
     },
     "execution_count": 47,
     "metadata": {},
     "output_type": "execute_result"
    }
   ],
   "source": [
    "std(mses_b) < std(mses_a)"
   ]
  },
  {
   "cell_type": "markdown",
   "metadata": {},
   "source": [
    "# Part C - Increase Number of Epochs"
   ]
  },
  {
   "cell_type": "code",
   "execution_count": 48,
   "metadata": {},
   "outputs": [
    {
     "name": "stdout",
     "output_type": "stream",
     "text": [
      "Train on 721 samples, validate on 309 samples\n",
      "Epoch 1/100\n",
      "721/721 [==============================] - 1s 915us/step - loss: 109.2600 - val_loss: 102.1344\n",
      "Epoch 2/100\n",
      "721/721 [==============================] - 1s 832us/step - loss: 107.2197 - val_loss: 102.2289\n",
      "Epoch 3/100\n",
      "721/721 [==============================] - 1s 801us/step - loss: 105.3677 - val_loss: 101.7460\n",
      "Epoch 4/100\n",
      "721/721 [==============================] - 1s 942us/step - loss: 103.8019 - val_loss: 101.7641\n",
      "Epoch 5/100\n",
      "721/721 [==============================] - 1s 965us/step - loss: 102.2722 - val_loss: 99.6458\n",
      "Epoch 6/100\n",
      "721/721 [==============================] - 1s 885us/step - loss: 100.8136 - val_loss: 100.1753\n",
      "Epoch 7/100\n",
      "721/721 [==============================] - 1s 964us/step - loss: 99.0711 - val_loss: 98.7700\n",
      "Epoch 8/100\n",
      "721/721 [==============================] - 1s 1ms/step - loss: 97.8954 - val_loss: 98.3953\n",
      "Epoch 9/100\n",
      "721/721 [==============================] - 1s 1ms/step - loss: 96.1430 - val_loss: 98.4407\n",
      "Epoch 10/100\n",
      "721/721 [==============================] - 1s 977us/step - loss: 94.8020 - val_loss: 96.9417\n",
      "Epoch 11/100\n",
      "721/721 [==============================] - 1s 1ms/step - loss: 93.4655 - val_loss: 97.3193\n",
      "Epoch 12/100\n",
      "721/721 [==============================] - 1s 1ms/step - loss: 92.1380 - val_loss: 96.4515\n",
      "Epoch 13/100\n",
      "721/721 [==============================] - 1s 859us/step - loss: 91.0572 - val_loss: 95.8283\n",
      "Epoch 14/100\n",
      "721/721 [==============================] - 1s 997us/step - loss: 89.5696 - val_loss: 94.0703\n",
      "Epoch 15/100\n",
      "721/721 [==============================] - 1s 907us/step - loss: 88.0276 - val_loss: 95.0742\n",
      "Epoch 16/100\n",
      "721/721 [==============================] - 1s 1ms/step - loss: 86.2744 - val_loss: 92.7611\n",
      "Epoch 17/100\n",
      "721/721 [==============================] - 1s 992us/step - loss: 84.1816 - val_loss: 92.5453\n",
      "Epoch 18/100\n",
      "721/721 [==============================] - 1s 917us/step - loss: 82.6043 - val_loss: 92.7309\n",
      "Epoch 19/100\n",
      "721/721 [==============================] - 1s 970us/step - loss: 81.1852 - val_loss: 92.5582\n",
      "Epoch 20/100\n",
      "721/721 [==============================] - 1s 916us/step - loss: 80.9579 - val_loss: 91.3175\n",
      "Epoch 21/100\n",
      "721/721 [==============================] - 1s 946us/step - loss: 79.5743 - val_loss: 93.8267\n",
      "Epoch 22/100\n",
      "721/721 [==============================] - 1s 1ms/step - loss: 77.7155 - val_loss: 88.8356\n",
      "Epoch 23/100\n",
      "721/721 [==============================] - 1s 835us/step - loss: 76.8250 - val_loss: 91.1726\n",
      "Epoch 24/100\n",
      "721/721 [==============================] - 1s 867us/step - loss: 75.5136 - val_loss: 90.2281\n",
      "Epoch 25/100\n",
      "721/721 [==============================] - 1s 938us/step - loss: 74.4905 - val_loss: 91.4416\n",
      "Epoch 26/100\n",
      "721/721 [==============================] - 1s 1ms/step - loss: 73.6243 - val_loss: 90.0801\n",
      "Epoch 27/100\n",
      "721/721 [==============================] - 1s 970us/step - loss: 72.6876 - val_loss: 89.1560\n",
      "Epoch 28/100\n",
      "721/721 [==============================] - 1s 836us/step - loss: 71.7146 - val_loss: 89.9343\n",
      "Epoch 29/100\n",
      "721/721 [==============================] - 1s 945us/step - loss: 70.7777 - val_loss: 90.9809\n",
      "Epoch 30/100\n",
      "721/721 [==============================] - 1s 981us/step - loss: 70.0538 - val_loss: 88.9408\n",
      "Epoch 31/100\n",
      "721/721 [==============================] - 1s 851us/step - loss: 69.0848 - val_loss: 89.1487\n",
      "Epoch 32/100\n",
      "721/721 [==============================] - 1s 969us/step - loss: 68.4972 - val_loss: 88.5246\n",
      "Epoch 33/100\n",
      "721/721 [==============================] - 1s 935us/step - loss: 67.5362 - val_loss: 89.0059\n",
      "Epoch 34/100\n",
      "721/721 [==============================] - 1s 1ms/step - loss: 66.9870 - val_loss: 88.9277\n",
      "Epoch 35/100\n",
      "721/721 [==============================] - 1s 1ms/step - loss: 65.9978 - val_loss: 86.1627\n",
      "Epoch 36/100\n",
      "721/721 [==============================] - 1s 1ms/step - loss: 65.3319 - val_loss: 88.3249\n",
      "Epoch 37/100\n",
      "721/721 [==============================] - 1s 837us/step - loss: 64.7009 - val_loss: 88.2200\n",
      "Epoch 38/100\n",
      "721/721 [==============================] - 1s 853us/step - loss: 63.9340 - val_loss: 87.5098\n",
      "Epoch 39/100\n",
      "721/721 [==============================] - 1s 974us/step - loss: 63.2229 - val_loss: 87.3273\n",
      "Epoch 40/100\n",
      "721/721 [==============================] - 1s 1ms/step - loss: 62.6751 - val_loss: 89.3935\n",
      "Epoch 41/100\n",
      "721/721 [==============================] - 1s 785us/step - loss: 61.8320 - val_loss: 87.2662\n",
      "Epoch 42/100\n",
      "721/721 [==============================] - 1s 895us/step - loss: 61.4777 - val_loss: 86.6953\n",
      "Epoch 43/100\n",
      "721/721 [==============================] - 1s 919us/step - loss: 60.8789 - val_loss: 88.0510\n",
      "Epoch 44/100\n",
      "721/721 [==============================] - 1s 954us/step - loss: 60.2362 - val_loss: 87.8717\n",
      "Epoch 45/100\n",
      "721/721 [==============================] - 1s 894us/step - loss: 59.5979 - val_loss: 88.4811\n",
      "Epoch 46/100\n",
      "721/721 [==============================] - 1s 1ms/step - loss: 59.0434 - val_loss: 87.7379\n",
      "Epoch 47/100\n",
      "721/721 [==============================] - 1s 1ms/step - loss: 58.5136 - val_loss: 87.7085\n",
      "Epoch 48/100\n",
      "721/721 [==============================] - 1s 1ms/step - loss: 58.0057 - val_loss: 88.9972\n",
      "Epoch 49/100\n",
      "721/721 [==============================] - 1s 2ms/step - loss: 57.2905 - val_loss: 87.9134\n",
      "Epoch 50/100\n",
      "721/721 [==============================] - 1s 1ms/step - loss: 56.8693 - val_loss: 87.9406\n",
      "Epoch 51/100\n",
      "721/721 [==============================] - 1s 2ms/step - loss: 56.3685 - val_loss: 90.1544\n",
      "Epoch 52/100\n",
      "721/721 [==============================] - 1s 989us/step - loss: 55.9018 - val_loss: 86.5235\n",
      "Epoch 53/100\n",
      "721/721 [==============================] - 1s 832us/step - loss: 55.3318 - val_loss: 88.2902\n",
      "Epoch 54/100\n",
      "721/721 [==============================] - 1s 943us/step - loss: 54.5753 - val_loss: 85.5399\n",
      "Epoch 55/100\n",
      "721/721 [==============================] - 1s 1ms/step - loss: 54.2618 - val_loss: 85.3748\n",
      "Epoch 56/100\n",
      "721/721 [==============================] - 1s 854us/step - loss: 53.6500 - val_loss: 85.9406\n",
      "Epoch 57/100\n",
      "721/721 [==============================] - 1s 916us/step - loss: 53.2831 - val_loss: 86.1373\n",
      "Epoch 58/100\n",
      "721/721 [==============================] - 1s 916us/step - loss: 52.7783 - val_loss: 85.0366\n",
      "Epoch 59/100\n",
      "721/721 [==============================] - 1s 950us/step - loss: 52.3774 - val_loss: 87.6123\n",
      "Epoch 60/100\n",
      "721/721 [==============================] - 1s 946us/step - loss: 52.0866 - val_loss: 86.9249\n",
      "Epoch 61/100\n",
      "721/721 [==============================] - 1s 941us/step - loss: 51.6147 - val_loss: 87.2741\n",
      "Epoch 62/100\n",
      "721/721 [==============================] - 1s 971us/step - loss: 51.4010 - val_loss: 84.8620\n",
      "Epoch 63/100\n",
      "721/721 [==============================] - 1s 850us/step - loss: 50.8315 - val_loss: 86.8796\n",
      "Epoch 64/100\n",
      "721/721 [==============================] - 1s 1ms/step - loss: 50.4440 - val_loss: 86.9190\n",
      "Epoch 65/100\n",
      "721/721 [==============================] - 1s 831us/step - loss: 50.0967 - val_loss: 87.2747\n",
      "Epoch 66/100\n",
      "721/721 [==============================] - 1s 943us/step - loss: 49.8085 - val_loss: 88.1855\n",
      "Epoch 67/100\n",
      "721/721 [==============================] - 1s 863us/step - loss: 49.3783 - val_loss: 86.9850\n",
      "Epoch 68/100\n",
      "721/721 [==============================] - 1s 1ms/step - loss: 48.9895 - val_loss: 88.8821\n",
      "Epoch 69/100\n",
      "721/721 [==============================] - 1s 950us/step - loss: 48.6574 - val_loss: 87.4331\n",
      "Epoch 70/100\n",
      "721/721 [==============================] - 1s 1ms/step - loss: 48.4796 - val_loss: 87.7931\n",
      "Epoch 71/100\n",
      "721/721 [==============================] - 1s 937us/step - loss: 48.1382 - val_loss: 88.3600\n",
      "Epoch 72/100\n",
      "721/721 [==============================] - 1s 995us/step - loss: 47.8758 - val_loss: 87.8794\n",
      "Epoch 73/100\n",
      "721/721 [==============================] - 1s 941us/step - loss: 47.6860 - val_loss: 88.4542\n",
      "Epoch 74/100\n",
      "721/721 [==============================] - 1s 886us/step - loss: 47.4637 - val_loss: 88.0335\n",
      "Epoch 75/100\n",
      "721/721 [==============================] - 1s 1ms/step - loss: 47.1165 - val_loss: 88.6267\n",
      "Epoch 76/100\n",
      "721/721 [==============================] - 1s 917us/step - loss: 46.8714 - val_loss: 90.6062\n",
      "Epoch 77/100\n",
      "721/721 [==============================] - 1s 913us/step - loss: 46.6438 - val_loss: 88.9778\n",
      "Epoch 78/100\n",
      "721/721 [==============================] - 1s 835us/step - loss: 46.6224 - val_loss: 89.3371\n",
      "Epoch 79/100\n",
      "721/721 [==============================] - 1s 935us/step - loss: 46.1446 - val_loss: 88.3404\n",
      "Epoch 80/100\n",
      "721/721 [==============================] - 1s 945us/step - loss: 45.8578 - val_loss: 92.1632\n",
      "Epoch 81/100\n",
      "721/721 [==============================] - 1s 912us/step - loss: 45.5910 - val_loss: 90.6402\n",
      "Epoch 82/100\n",
      "721/721 [==============================] - 1s 1ms/step - loss: 45.4407 - val_loss: 90.4519\n",
      "Epoch 83/100\n",
      "721/721 [==============================] - 1s 1ms/step - loss: 45.3287 - val_loss: 91.3637\n",
      "Epoch 84/100\n",
      "721/721 [==============================] - 1s 970us/step - loss: 44.9109 - val_loss: 91.0053\n",
      "Epoch 85/100\n",
      "721/721 [==============================] - 1s 921us/step - loss: 44.9969 - val_loss: 91.4210\n",
      "Epoch 86/100\n",
      "721/721 [==============================] - 1s 916us/step - loss: 44.5099 - val_loss: 90.1779\n",
      "Epoch 87/100\n",
      "721/721 [==============================] - 1s 976us/step - loss: 44.4227 - val_loss: 92.1710\n",
      "Epoch 88/100\n",
      "721/721 [==============================] - 1s 947us/step - loss: 44.4409 - val_loss: 92.4578\n",
      "Epoch 89/100\n",
      "721/721 [==============================] - 1s 1ms/step - loss: 43.9423 - val_loss: 91.1263\n",
      "Epoch 90/100\n",
      "721/721 [==============================] - 1s 1ms/step - loss: 43.9000 - val_loss: 92.2711\n",
      "Epoch 91/100\n",
      "721/721 [==============================] - 1s 1ms/step - loss: 43.5382 - val_loss: 92.4607\n",
      "Epoch 92/100\n",
      "721/721 [==============================] - 1s 916us/step - loss: 43.4934 - val_loss: 93.6628\n",
      "Epoch 93/100\n",
      "721/721 [==============================] - ETA: 0s - loss: 43.24 - 1s 991us/step - loss: 43.2553 - val_loss: 93.1270\n",
      "Epoch 94/100\n",
      "721/721 [==============================] - 1s 826us/step - loss: 43.0685 - val_loss: 92.1522\n",
      "Epoch 95/100\n",
      "721/721 [==============================] - 1s 811us/step - loss: 43.0104 - val_loss: 93.8500\n",
      "Epoch 96/100\n",
      "721/721 [==============================] - 1s 943us/step - loss: 42.6290 - val_loss: 92.7370\n",
      "Epoch 97/100\n",
      "721/721 [==============================] - 1s 863us/step - loss: 42.7376 - val_loss: 93.6106\n",
      "Epoch 98/100\n",
      "721/721 [==============================] - 1s 999us/step - loss: 42.4262 - val_loss: 97.3554\n",
      "Epoch 99/100\n",
      "721/721 [==============================] - 1s 851us/step - loss: 42.2986 - val_loss: 93.7209\n",
      "Epoch 100/100\n",
      "721/721 [==============================] - 1s 1ms/step - loss: 42.1744 - val_loss: 95.4443\n"
     ]
    },
    {
     "data": {
      "text/plain": [
       "<keras.callbacks.History at 0x7f6d51f2c908>"
      ]
     },
     "execution_count": 48,
     "metadata": {},
     "output_type": "execute_result"
    }
   ],
   "source": [
    "model.fit(predictors_norm, target, validation_split=0.3, epochs=100)"
   ]
  },
  {
   "cell_type": "code",
   "execution_count": 49,
   "metadata": {},
   "outputs": [],
   "source": [
    "mses_c = get_mses(model, target, predictors_norm, iterations=50)"
   ]
  },
  {
   "cell_type": "code",
   "execution_count": 50,
   "metadata": {},
   "outputs": [
    {
     "name": "stdout",
     "output_type": "stream",
     "text": [
      "Standard deviation of 50 MSE values for normalized predictors, 100 epochs: 7.105427357601002e-15\n"
     ]
    }
   ],
   "source": [
    "print('Standard deviation of 50 MSE values for normalized predictors, 100 epochs: {}'.format(std(mses_c)))"
   ]
  },
  {
   "cell_type": "code",
   "execution_count": 51,
   "metadata": {},
   "outputs": [
    {
     "data": {
      "text/plain": [
       "False"
      ]
     },
     "execution_count": 51,
     "metadata": {},
     "output_type": "execute_result"
    }
   ],
   "source": [
    "std(mses_b) < std(mses_c)"
   ]
  },
  {
   "cell_type": "markdown",
   "metadata": {},
   "source": [
    "# Part D - Increase Number of Hidden Layers"
   ]
  },
  {
   "cell_type": "code",
   "execution_count": 52,
   "metadata": {},
   "outputs": [
    {
     "name": "stdout",
     "output_type": "stream",
     "text": [
      "Train on 721 samples, validate on 309 samples\n",
      "Epoch 1/50\n",
      "721/721 [==============================] - 2s 3ms/step - loss: 1703.4617 - val_loss: 1224.5214\n",
      "Epoch 2/50\n",
      "721/721 [==============================] - 1s 1ms/step - loss: 1676.9986 - val_loss: 1204.1265\n",
      "Epoch 3/50\n",
      "721/721 [==============================] - 1s 1ms/step - loss: 1636.6910 - val_loss: 1163.7307\n",
      "Epoch 4/50\n",
      "721/721 [==============================] - 1s 1ms/step - loss: 1549.4060 - val_loss: 1075.6584\n",
      "Epoch 5/50\n",
      "721/721 [==============================] - 1s 1ms/step - loss: 1364.2927 - val_loss: 895.8429\n",
      "Epoch 6/50\n",
      "721/721 [==============================] - 1s 1ms/step - loss: 1011.9580 - val_loss: 593.2750\n",
      "Epoch 7/50\n",
      "721/721 [==============================] - 1s 1ms/step - loss: 533.2250 - val_loss: 285.8287\n",
      "Epoch 8/50\n",
      "721/721 [==============================] - 1s 1ms/step - loss: 289.3449 - val_loss: 200.0278\n",
      "Epoch 9/50\n",
      "721/721 [==============================] - 1s 1ms/step - loss: 247.3833 - val_loss: 189.2317\n",
      "Epoch 10/50\n",
      "721/721 [==============================] - 1s 1ms/step - loss: 226.1649 - val_loss: 175.7292\n",
      "Epoch 11/50\n",
      "721/721 [==============================] - 1s 1ms/step - loss: 211.4612 - val_loss: 166.6231\n",
      "Epoch 12/50\n",
      "721/721 [==============================] - 1s 1ms/step - loss: 200.0013 - val_loss: 161.1328\n",
      "Epoch 13/50\n",
      "721/721 [==============================] - 1s 1ms/step - loss: 191.5752 - val_loss: 156.2591\n",
      "Epoch 14/50\n",
      "721/721 [==============================] - 1s 1ms/step - loss: 184.1666 - val_loss: 153.5990\n",
      "Epoch 15/50\n",
      "721/721 [==============================] - 1s 1ms/step - loss: 178.4203 - val_loss: 151.2391\n",
      "Epoch 16/50\n",
      "721/721 [==============================] - 1s 1ms/step - loss: 173.6745 - val_loss: 149.1137\n",
      "Epoch 17/50\n",
      "721/721 [==============================] - 1s 1ms/step - loss: 168.7686 - val_loss: 148.9956\n",
      "Epoch 18/50\n",
      "721/721 [==============================] - 1s 1ms/step - loss: 164.5147 - val_loss: 146.8393\n",
      "Epoch 19/50\n",
      "721/721 [==============================] - 1s 2ms/step - loss: 160.6133 - val_loss: 144.9713\n",
      "Epoch 20/50\n",
      "721/721 [==============================] - 1s 2ms/step - loss: 155.8732 - val_loss: 143.9799\n",
      "Epoch 21/50\n",
      "721/721 [==============================] - 1s 2ms/step - loss: 151.3173 - val_loss: 143.8528\n",
      "Epoch 22/50\n",
      "721/721 [==============================] - 1s 2ms/step - loss: 148.0381 - val_loss: 143.8819\n",
      "Epoch 23/50\n",
      "721/721 [==============================] - 1s 1ms/step - loss: 143.6232 - val_loss: 144.5686\n",
      "Epoch 24/50\n",
      "721/721 [==============================] - 1s 1ms/step - loss: 140.7214 - val_loss: 142.8728\n",
      "Epoch 25/50\n",
      "721/721 [==============================] - 1s 1ms/step - loss: 137.2091 - val_loss: 143.3157\n",
      "Epoch 26/50\n",
      "721/721 [==============================] - 1s 1ms/step - loss: 133.9635 - val_loss: 142.0953\n",
      "Epoch 27/50\n",
      "721/721 [==============================] - 1s 1ms/step - loss: 130.7277 - val_loss: 144.5591\n",
      "Epoch 28/50\n",
      "721/721 [==============================] - 1s 1ms/step - loss: 127.2786 - val_loss: 143.5177\n",
      "Epoch 29/50\n",
      "721/721 [==============================] - 2s 2ms/step - loss: 124.6149 - val_loss: 140.5109\n",
      "Epoch 30/50\n",
      "721/721 [==============================] - 1s 1ms/step - loss: 120.9758 - val_loss: 144.9763\n",
      "Epoch 31/50\n",
      "721/721 [==============================] - 1s 1ms/step - loss: 116.8059 - val_loss: 145.0641\n",
      "Epoch 32/50\n",
      "721/721 [==============================] - 1s 1ms/step - loss: 113.5466 - val_loss: 146.5572\n",
      "Epoch 33/50\n",
      "721/721 [==============================] - 1s 1ms/step - loss: 110.4715 - val_loss: 145.4989\n",
      "Epoch 34/50\n",
      "721/721 [==============================] - 1s 1ms/step - loss: 108.0575 - val_loss: 145.7206\n",
      "Epoch 35/50\n",
      "721/721 [==============================] - 1s 1ms/step - loss: 105.6948 - val_loss: 148.9578\n",
      "Epoch 36/50\n",
      "721/721 [==============================] - 1s 1ms/step - loss: 101.4627 - val_loss: 146.0749\n",
      "Epoch 37/50\n",
      "721/721 [==============================] - 1s 1ms/step - loss: 98.4899 - val_loss: 146.4241\n",
      "Epoch 38/50\n",
      "721/721 [==============================] - 1s 1ms/step - loss: 95.2064 - val_loss: 143.8881\n",
      "Epoch 39/50\n",
      "721/721 [==============================] - 1s 1ms/step - loss: 92.5976 - val_loss: 149.5443\n",
      "Epoch 40/50\n",
      "721/721 [==============================] - 1s 1ms/step - loss: 89.0425 - val_loss: 141.6553\n",
      "Epoch 41/50\n",
      "721/721 [==============================] - 1s 1ms/step - loss: 85.7631 - val_loss: 146.4577\n",
      "Epoch 42/50\n",
      "721/721 [==============================] - 1s 1ms/step - loss: 81.1952 - val_loss: 144.8011\n",
      "Epoch 43/50\n",
      "721/721 [==============================] - 1s 1ms/step - loss: 79.2276 - val_loss: 152.6364\n",
      "Epoch 44/50\n",
      "721/721 [==============================] - 1s 1ms/step - loss: 74.7843 - val_loss: 141.9338\n",
      "Epoch 45/50\n",
      "721/721 [==============================] - 1s 1ms/step - loss: 72.3641 - val_loss: 146.9432\n",
      "Epoch 46/50\n",
      "721/721 [==============================] - 1s 1ms/step - loss: 69.4123 - val_loss: 154.3208\n",
      "Epoch 47/50\n",
      "721/721 [==============================] - 1s 1ms/step - loss: 67.1222 - val_loss: 148.9385\n",
      "Epoch 48/50\n",
      "721/721 [==============================] - 1s 2ms/step - loss: 64.2647 - val_loss: 148.3221\n",
      "Epoch 49/50\n",
      "721/721 [==============================] - 1s 1ms/step - loss: 62.2398 - val_loss: 144.4176\n",
      "Epoch 50/50\n",
      "721/721 [==============================] - 1s 1ms/step - loss: 59.7463 - val_loss: 153.8679\n"
     ]
    }
   ],
   "source": [
    "model = Sequential()\n",
    "model.add(Dense(50, activation='relu', input_shape=(n_cols,)))\n",
    "model.add(Dense(10, activation='relu'))\n",
    "model.add(Dense(10, activation='relu'))\n",
    "model.add(Dense(10, activation='relu'))\n",
    "model.add(Dense(1))\n",
    "model.compile(optimizer='adam', loss='mean_squared_error')\n",
    "model.fit(predictors_norm, target, validation_split=0.3, epochs=50)\n",
    "mses_d = get_mses(model, target, predictors_norm, iterations=50)"
   ]
  },
  {
   "cell_type": "code",
   "execution_count": 56,
   "metadata": {},
   "outputs": [
    {
     "name": "stdout",
     "output_type": "stream",
     "text": [
      "Standard deviation for part D: 2.842170943040401e-14\n"
     ]
    }
   ],
   "source": [
    "print('Standard deviation for part D: {}'.format(std(mses_d)))"
   ]
  },
  {
   "cell_type": "code",
   "execution_count": 57,
   "metadata": {},
   "outputs": [
    {
     "data": {
      "text/plain": [
       "False"
      ]
     },
     "execution_count": 57,
     "metadata": {},
     "output_type": "execute_result"
    }
   ],
   "source": [
    "std(mses_b) < std(mses_d)"
   ]
  }
 ],
 "metadata": {
  "kernelspec": {
   "display_name": "Python",
   "language": "python",
   "name": "conda-env-python-py"
  },
  "language_info": {
   "codemirror_mode": {
    "name": "ipython",
    "version": 3
   },
   "file_extension": ".py",
   "mimetype": "text/x-python",
   "name": "python",
   "nbconvert_exporter": "python",
   "pygments_lexer": "ipython3",
   "version": "3.6.12"
  }
 },
 "nbformat": 4,
 "nbformat_minor": 4
}
